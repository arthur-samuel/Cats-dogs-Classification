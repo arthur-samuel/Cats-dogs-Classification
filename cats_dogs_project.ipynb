{
 "cells": [
  {
   "cell_type": "markdown",
   "metadata": {},
   "source": [
    "# Convolutional Neural Network"
   ]
  },
  {
   "cell_type": "markdown",
   "metadata": {},
   "source": [
    "### Importing the libraries"
   ]
  },
  {
   "cell_type": "code",
   "execution_count": 1,
   "metadata": {},
   "outputs": [],
   "source": [
    "import tensorflow as tf\n",
    "from tensorflow.keras.preprocessing.image import ImageDataGenerator\n",
    "#the imagedata generator helps with data preprocessing"
   ]
  },
  {
   "cell_type": "markdown",
   "metadata": {},
   "source": [
    "## Part 1 - Data Preprocessing"
   ]
  },
  {
   "cell_type": "markdown",
   "metadata": {},
   "source": [
    "### Preprocessing the Training set\n",
    "\n",
    "This is to avoid overfitting the training set"
   ]
  },
  {
   "cell_type": "code",
   "execution_count": 2,
   "metadata": {},
   "outputs": [
    {
     "name": "stdout",
     "output_type": "stream",
     "text": [
      "Found 8000 images belonging to 2 classes.\n"
     ]
    }
   ],
   "source": [
    "train_datagen = ImageDataGenerator(rescale = 1./255,\n",
    "                                   shear_range = 0.2,\n",
    "                                   zoom_range = 0.2,\n",
    "                                   horizontal_flip = True)\n",
    "training_set = train_datagen.flow_from_directory('D:\\\\SKAY\\\\Projects\\\\KEEP\\\\VScode\\\\Studies\\\\cnn_project\\\\Section+40+-+Convolutional+Neural+Networks+(CNN)\\\\Section 40 - Convolutional Neural Networks (CNN)\\dataset\\\\training_set',\n",
    "                                                 target_size = (64, 64),\n",
    "                                                 batch_size = 32,\n",
    "                                                 class_mode = 'binary')"
   ]
  },
  {
   "cell_type": "markdown",
   "metadata": {},
   "source": [
    "### Preprocessing the Test set"
   ]
  },
  {
   "cell_type": "code",
   "execution_count": 5,
   "metadata": {},
   "outputs": [
    {
     "name": "stdout",
     "output_type": "stream",
     "text": [
      "Found 2000 images belonging to 2 classes.\n"
     ]
    }
   ],
   "source": [
    "#we have to keep the images of the test folder in tact \n",
    "test_datagen = ImageDataGenerator(rescale = 1./255)\n",
    "test_set = test_datagen.flow_from_directory('Section+40+-+Convolutional+Neural+Networks+(CNN)//Section 40 - Convolutional Neural Networks (CNN)//dataset//test_set',\n",
    "                                            target_size = (64, 64),\n",
    "                                            batch_size = 32,\n",
    "                                            class_mode = 'binary')"
   ]
  },
  {
   "cell_type": "markdown",
   "metadata": {},
   "source": [
    "## Part 2 - Building the CNN"
   ]
  },
  {
   "cell_type": "markdown",
   "metadata": {},
   "source": [
    "### Initialising the CNN"
   ]
  },
  {
   "cell_type": "code",
   "execution_count": 6,
   "metadata": {},
   "outputs": [],
   "source": [
    "cnn = tf.keras.models.Sequential()"
   ]
  },
  {
   "cell_type": "markdown",
   "metadata": {},
   "source": [
    "### Step 1 - Convolution"
   ]
  },
  {
   "cell_type": "code",
   "execution_count": 7,
   "metadata": {},
   "outputs": [],
   "source": [
    "cnn.add(tf.keras.layers.Conv2D(filters=32,kernel_size=3, activation='relu', input_shape=[64, 64, 3]))\n",
    "\n",
    "#filters : number of feature detectors\n",
    "#the size of the filters\n"
   ]
  },
  {
   "cell_type": "markdown",
   "metadata": {},
   "source": [
    "### Step 2 - Pooling"
   ]
  },
  {
   "cell_type": "code",
   "execution_count": 8,
   "metadata": {},
   "outputs": [],
   "source": [
    "cnn.add(tf.keras.layers.MaxPool2D(pool_size=2, strides=2))\n",
    "#Poolsize is size of the pooling layer"
   ]
  },
  {
   "cell_type": "markdown",
   "metadata": {},
   "source": [
    "### Adding a second convolutional layer"
   ]
  },
  {
   "cell_type": "code",
   "execution_count": 9,
   "metadata": {},
   "outputs": [],
   "source": [
    "cnn.add(tf.keras.layers.Conv2D(filters=32, kernel_size=3, activation='relu'))\n",
    "cnn.add(tf.keras.layers.MaxPool2D(pool_size=2, strides=2))\n",
    "# we remove the input shape because we are automatically connected to the first layer"
   ]
  },
  {
   "cell_type": "markdown",
   "metadata": {},
   "source": [
    "### Step 3 - Flattening"
   ]
  },
  {
   "cell_type": "code",
   "execution_count": 10,
   "metadata": {},
   "outputs": [],
   "source": [
    "cnn.add(tf.keras.layers.Flatten())"
   ]
  },
  {
   "cell_type": "markdown",
   "metadata": {},
   "source": [
    "### Step 4 - Full Connection"
   ]
  },
  {
   "cell_type": "code",
   "execution_count": 11,
   "metadata": {},
   "outputs": [],
   "source": [
    "cnn.add(tf.keras.layers.Dense(units=128, activation='relu'))\n",
    "#units is the number of hidden neurons "
   ]
  },
  {
   "cell_type": "markdown",
   "metadata": {},
   "source": [
    "### Step 5 - Output Layer"
   ]
  },
  {
   "cell_type": "code",
   "execution_count": 12,
   "metadata": {},
   "outputs": [],
   "source": [
    "cnn.add(tf.keras.layers.Dense(units=1, activation='sigmoid'))"
   ]
  },
  {
   "cell_type": "markdown",
   "metadata": {},
   "source": [
    "## Part 3 - Training the CNN"
   ]
  },
  {
   "cell_type": "markdown",
   "metadata": {},
   "source": [
    "### Compiling the CNN"
   ]
  },
  {
   "cell_type": "code",
   "execution_count": 13,
   "metadata": {},
   "outputs": [],
   "source": [
    "cnn.compile(optimizer='adam', loss='binary_crossentropy', metrics=['accuracy'])"
   ]
  },
  {
   "cell_type": "markdown",
   "metadata": {},
   "source": [
    "### Training the CNN on the Training set and evaluating it on the Test set"
   ]
  },
  {
   "cell_type": "code",
   "execution_count": 14,
   "metadata": {},
   "outputs": [
    {
     "name": "stdout",
     "output_type": "stream",
     "text": [
      "Epoch 1/25\n",
      "250/250 [==============================] - 210s 835ms/step - loss: 0.6825 - accuracy: 0.5723 - val_loss: 0.6611 - val_accuracy: 0.6055\n",
      "Epoch 2/25\n",
      "250/250 [==============================] - 100s 400ms/step - loss: 0.6241 - accuracy: 0.6524 - val_loss: 0.6018 - val_accuracy: 0.6880\n",
      "Epoch 3/25\n",
      "250/250 [==============================] - 79s 314ms/step - loss: 0.5859 - accuracy: 0.6870 - val_loss: 0.5702 - val_accuracy: 0.7050\n",
      "Epoch 4/25\n",
      "250/250 [==============================] - 72s 288ms/step - loss: 0.5530 - accuracy: 0.7150 - val_loss: 0.5275 - val_accuracy: 0.7405\n",
      "Epoch 5/25\n",
      "250/250 [==============================] - 69s 275ms/step - loss: 0.5208 - accuracy: 0.7381 - val_loss: 0.5218 - val_accuracy: 0.7425\n",
      "Epoch 6/25\n",
      "250/250 [==============================] - 70s 281ms/step - loss: 0.4981 - accuracy: 0.7527 - val_loss: 0.4861 - val_accuracy: 0.7725\n",
      "Epoch 7/25\n",
      "250/250 [==============================] - 69s 278ms/step - loss: 0.4866 - accuracy: 0.7623 - val_loss: 0.4854 - val_accuracy: 0.7760\n",
      "Epoch 8/25\n",
      "250/250 [==============================] - 70s 280ms/step - loss: 0.4664 - accuracy: 0.7775 - val_loss: 0.4811 - val_accuracy: 0.7790\n",
      "Epoch 9/25\n",
      "250/250 [==============================] - 69s 276ms/step - loss: 0.4422 - accuracy: 0.7931 - val_loss: 0.4846 - val_accuracy: 0.7720\n",
      "Epoch 10/25\n",
      "250/250 [==============================] - 70s 279ms/step - loss: 0.4280 - accuracy: 0.7985 - val_loss: 0.4954 - val_accuracy: 0.7685\n",
      "Epoch 11/25\n",
      "250/250 [==============================] - 73s 292ms/step - loss: 0.4119 - accuracy: 0.8099 - val_loss: 0.4661 - val_accuracy: 0.7920\n",
      "Epoch 12/25\n",
      "250/250 [==============================] - 89s 355ms/step - loss: 0.3899 - accuracy: 0.8192 - val_loss: 0.4628 - val_accuracy: 0.8010\n",
      "Epoch 13/25\n",
      "250/250 [==============================] - 78s 310ms/step - loss: 0.3739 - accuracy: 0.8301 - val_loss: 0.4876 - val_accuracy: 0.7940\n",
      "Epoch 14/25\n",
      "250/250 [==============================] - 74s 296ms/step - loss: 0.3634 - accuracy: 0.8346 - val_loss: 0.4549 - val_accuracy: 0.7995\n",
      "Epoch 15/25\n",
      "250/250 [==============================] - 78s 314ms/step - loss: 0.3387 - accuracy: 0.8501 - val_loss: 0.4589 - val_accuracy: 0.8120\n",
      "Epoch 16/25\n",
      "250/250 [==============================] - 158s 633ms/step - loss: 0.3212 - accuracy: 0.8585 - val_loss: 0.4644 - val_accuracy: 0.8120\n",
      "Epoch 17/25\n",
      "250/250 [==============================] - 90s 358ms/step - loss: 0.3101 - accuracy: 0.8637 - val_loss: 0.4784 - val_accuracy: 0.8070\n",
      "Epoch 18/25\n",
      "250/250 [==============================] - 91s 363ms/step - loss: 0.2999 - accuracy: 0.8725 - val_loss: 0.5141 - val_accuracy: 0.7960\n",
      "Epoch 19/25\n",
      "250/250 [==============================] - 109s 435ms/step - loss: 0.2822 - accuracy: 0.8795 - val_loss: 0.4882 - val_accuracy: 0.8075\n",
      "Epoch 20/25\n",
      "250/250 [==============================] - 113s 453ms/step - loss: 0.2646 - accuracy: 0.8882 - val_loss: 0.5041 - val_accuracy: 0.7975\n",
      "Epoch 21/25\n",
      "250/250 [==============================] - 126s 501ms/step - loss: 0.2578 - accuracy: 0.8910 - val_loss: 0.4844 - val_accuracy: 0.8035\n",
      "Epoch 22/25\n",
      "250/250 [==============================] - 142s 567ms/step - loss: 0.2462 - accuracy: 0.8966 - val_loss: 0.5423 - val_accuracy: 0.7995\n",
      "Epoch 23/25\n",
      "250/250 [==============================] - 117s 466ms/step - loss: 0.2295 - accuracy: 0.9039 - val_loss: 0.5168 - val_accuracy: 0.8025\n",
      "Epoch 24/25\n",
      "250/250 [==============================] - 111s 443ms/step - loss: 0.2068 - accuracy: 0.9186 - val_loss: 0.5825 - val_accuracy: 0.7950\n",
      "Epoch 25/25\n",
      "250/250 [==============================] - 89s 356ms/step - loss: 0.2079 - accuracy: 0.9162 - val_loss: 0.5829 - val_accuracy: 0.7925\n"
     ]
    },
    {
     "data": {
      "text/plain": [
       "<tensorflow.python.keras.callbacks.History at 0x23c260fd708>"
      ]
     },
     "execution_count": 14,
     "metadata": {},
     "output_type": "execute_result"
    }
   ],
   "source": [
    "cnn.fit(x = training_set, validation_data = test_set, epochs = 25)"
   ]
  },
  {
   "cell_type": "code",
   "execution_count": 19,
   "metadata": {},
   "outputs": [],
   "source": [
    "\n",
    "\n",
    "cnn.save(\"cats_dogs_trained_model.h5\")"
   ]
  },
  {
   "cell_type": "markdown",
   "metadata": {},
   "source": [
    "## Part 4 - Making a single prediction"
   ]
  },
  {
   "cell_type": "code",
   "execution_count": 26,
   "metadata": {},
   "outputs": [],
   "source": [
    "import numpy as np\n",
    "from tensorflow.keras.preprocessing import image\n",
    "#from keras.preprocessing import image"
   ]
  },
  {
   "cell_type": "code",
   "execution_count": 27,
   "metadata": {},
   "outputs": [],
   "source": [
    "\n",
    "test_image = image.load_img('Section+40+-+Convolutional+Neural+Networks+(CNN)//Section 40 - Convolutional Neural Networks (CNN)//dataset//single_prediction//cat_or_dog_1.jpg', target_size = (64, 64))\n",
    "test_image = image.img_to_array(test_image)\n",
    "test_image = np.expand_dims(test_image, axis = 0) #the single image should also be in a batch\n",
    "result = cnn.predict(test_image)\n",
    "training_set.class_indices\n",
    "if result[0][0] == 1:\n",
    "  prediction = 'dog'\n",
    "else:\n",
    "  prediction = 'cat'"
   ]
  },
  {
   "cell_type": "code",
   "execution_count": 28,
   "metadata": {},
   "outputs": [
    {
     "name": "stdout",
     "output_type": "stream",
     "text": [
      "dog\n"
     ]
    }
   ],
   "source": [
    "print(prediction)"
   ]
  },
  {
   "cell_type": "code",
   "execution_count": null,
   "metadata": {},
   "outputs": [],
   "source": []
  }
 ],
 "metadata": {
  "kernelspec": {
   "display_name": "suii",
   "language": "python",
   "name": "suii"
  },
  "language_info": {
   "codemirror_mode": {
    "name": "ipython",
    "version": 3
   },
   "file_extension": ".py",
   "mimetype": "text/x-python",
   "name": "python",
   "nbconvert_exporter": "python",
   "pygments_lexer": "ipython3",
   "version": "3.7.12"
  }
 },
 "nbformat": 4,
 "nbformat_minor": 2
}
